{
 "cells": [
  {
   "cell_type": "markdown",
   "id": "fed24f51",
   "metadata": {},
   "source": [
    "# Is my datapoint an outlier?\n",
    "\n",
    "In this notebook we will show how to use the [Mahalanobis distance](https://huggingface.co/metrics/mahalanobis) to know if our datapoint belongs to a reference distribution of other datapoints, or if it is an outlier.\n",
    "\n",
    "We sampled some Sports and Business news from the [AG News dataset](https://huggingface.co/datasets/ag_news) for our analysis."
   ]
  },
  {
   "cell_type": "code",
   "execution_count": 1,
   "id": "c3a513eb",
   "metadata": {},
   "outputs": [],
   "source": [
    "# Reference distribution - list of sports news\n",
    "sports_news = [  \n",
    "    \"Today's schedule College soccer: MEN -- Curry at Emerson, 4 p.m.; WOMEN -- Mount Ida at Curry, 3:30 p.m.\",\n",
    "    \"Today's schedule Pro baseball: AL Division Series -- Anaheim vs. Red Sox at Fenway Park (Game 3), 4 p.m.\",\n",
    "    'Rivera was a corner stone for Ruiz NEW YORK -- For a time Saturday night, John Ruiz was ready to give up.',\n",
    "    'Wisdom was main course WALTHAM -- He is an 87-year-old man with a cane and a cigar, and the clout of a king.',\n",
    "    \"Friday Focus: Running in the rain Rain is forecast for Saturday in Spa. Here's what the team will do to cope...\",\n",
    "    'Red Sox Stumble and Fumble Their Way to Series Lead  ST LOUIS (Reuters) - So much for the \"Curse of the  Bambino.\"',\n",
    "    'Georgia Tech Looks to Virginia Tech (AP) AP - Georgia Tech wants to avoid being embarrassed by another ACC rookie.',\n",
    "    'Ali gives Iraq fighting chance The back of his shirt told the story last night at the Peristeri Olympic Boxing Hall.',\n",
    "    'Starting for Cardinals Has Privileges St. Louis is a collection of superstar position players and anonymous pitchers.',\n",
    "    'Hawks soar over Blue Stars The Division 4 Super Bowl last night featured two teams coming off 180-degree turnarounds.',\n",
    "    \"Italian GP, Race Fernando spun out of third position while Jarno finished tenth in this afternoon's Italian Grand Prix\",\n",
    "    \"Emotional rescue for Jones Jacque Jones sprinted all the way around the bases, as if he couldn't wait to share the moment.\",\n",
    "    'Bulldogs, Gators Remember Last Miss. Game (AP) AP - Mississippi State is looking for another landmark win against Florida.',\n",
    "    'Cavanagh, Crimson roll by Union Tom Cavanagh scored two goals, leading Harvard to a 4-1 win over visiting Union last night.'\n",
    "]"
   ]
  },
  {
   "cell_type": "code",
   "execution_count": 2,
   "id": "9ed41216",
   "metadata": {},
   "outputs": [],
   "source": [
    "# Candidate datapoint 1 - business news\n",
    "datapoint_1 = 'UTC buys Kidde for 1.4bn UK fire equipment manufacturer Kidde agrees a 1.4bn takeover by US manufacturer United Technologies.'\n",
    "\n",
    "# Candidate datapoint 1 - sports news\n",
    "datapoint_2 = \"Serena Ends Mauresmo's Year-End No. 1 Bid (AP) AP - Serena Williams is in love  #151; with her new attacking game and herself.\""
   ]
  },
  {
   "cell_type": "markdown",
   "id": "29fd729c",
   "metadata": {},
   "source": [
    "**Before using the Mahalanobis distance, we just need to convert our texts into features. We will use the [paraphrase-MiniLM-L6-v2 model from Sentence Transformers](https://huggingface.co/sentence-transformers/paraphrase-MiniLM-L6-v2) to do that.**"
   ]
  },
  {
   "cell_type": "code",
   "execution_count": null,
   "id": "ef231df5",
   "metadata": {},
   "outputs": [],
   "source": [
    "from sentence_transformers import SentenceTransformer\n",
    "\n",
    "# load model\n",
    "model = SentenceTransformer('sentence-transformers/paraphrase-MiniLM-L6-v2')"
   ]
  },
  {
   "cell_type": "code",
   "execution_count": 4,
   "id": "b419356f",
   "metadata": {},
   "outputs": [
    {
     "data": {
      "text/plain": [
       "(14, 384)"
      ]
     },
     "execution_count": 4,
     "metadata": {},
     "output_type": "execute_result"
    }
   ],
   "source": [
    "# Encode our sports news into features\n",
    "encoded_sports_news = model.encode(sports_news)\n",
    "encoded_sports_news.shape"
   ]
  },
  {
   "cell_type": "code",
   "execution_count": 5,
   "id": "246b473c",
   "metadata": {},
   "outputs": [
    {
     "data": {
      "text/plain": [
       "((1, 384), (1, 384))"
      ]
     },
     "execution_count": 5,
     "metadata": {},
     "output_type": "execute_result"
    }
   ],
   "source": [
    "# Encode our candidate news into features\n",
    "encoded_datapoint_1 = model.encode([datapoint_1])\n",
    "encoded_datapoint_2 = model.encode([datapoint_2])\n",
    "encoded_datapoint_1.shape, encoded_datapoint_2.shape"
   ]
  },
  {
   "cell_type": "markdown",
   "id": "3d9dd3c7",
   "metadata": {},
   "source": [
    "**We have now encoded each text in a vector of 384 features. We are ready to use the Mahalanobis distance!**\n",
    "\n",
    "All we need to do is calculate a critical score for a given `significance_level`: \n",
    "- `chi2.ppf((1 - significance_level), num_features - 1)`\n",
    "\n",
    "If our mahalanobis distance is higher than this score, we have an outlier!"
   ]
  },
  {
   "cell_type": "code",
   "execution_count": 6,
   "id": "7cb0b42f",
   "metadata": {},
   "outputs": [],
   "source": [
    "import numpy as np\n",
    "from scipy.stats import chi2\n",
    "from datasets import load_metric\n",
    "\n",
    "\n",
    "mahalanobis_metric  = load_metric(\"mahalanobis\")\n",
    "\n",
    "\n",
    "def is_outlier(x: np.ndarray, reference_distribution: np.ndarray, significance_level: float) -> bool:\n",
    "\n",
    "    # Calculate a critical value\n",
    "    critical_value = chi2.ppf((1-significance_level), df=x.shape[1] - 1)\n",
    "    \n",
    "    # Calculate the mahalanobis distance\n",
    "    results = mahalanobis_metric.compute(\n",
    "        reference_distribution=reference_distribution, \n",
    "        X=x\n",
    "    )\n",
    "    \n",
    "    # Return true if mahalanobis distance is higher than the critical value, False otherwise\n",
    "    return results['mahalanobis'][0] > critical_value\n"
   ]
  },
  {
   "cell_type": "code",
   "execution_count": 7,
   "id": "09419dd6",
   "metadata": {},
   "outputs": [
    {
     "data": {
      "text/plain": [
       "True"
      ]
     },
     "execution_count": 7,
     "metadata": {},
     "output_type": "execute_result"
    }
   ],
   "source": [
    "is_outlier(\n",
    "    x=encoded_datapoint_1, \n",
    "    reference_distribution=encoded_sports_news, \n",
    "    significance_level=0.01 # high significance value\n",
    ")"
   ]
  },
  {
   "cell_type": "code",
   "execution_count": 8,
   "id": "c764e9b1",
   "metadata": {},
   "outputs": [
    {
     "data": {
      "text/plain": [
       "False"
      ]
     },
     "execution_count": 8,
     "metadata": {},
     "output_type": "execute_result"
    }
   ],
   "source": [
    "is_outlier(\n",
    "    x=encoded_datapoint_2, \n",
    "    reference_distribution=encoded_sports_news, \n",
    "    significance_level=0.01 # high significance value\n",
    ")"
   ]
  }
 ],
 "metadata": {
  "kernelspec": {
   "display_name": "Python 3",
   "language": "python",
   "name": "python3"
  },
  "language_info": {
   "codemirror_mode": {
    "name": "ipython",
    "version": 3
   },
   "file_extension": ".py",
   "mimetype": "text/x-python",
   "name": "python",
   "nbconvert_exporter": "python",
   "pygments_lexer": "ipython3",
   "version": "3.7.12"
  }
 },
 "nbformat": 4,
 "nbformat_minor": 5
}
